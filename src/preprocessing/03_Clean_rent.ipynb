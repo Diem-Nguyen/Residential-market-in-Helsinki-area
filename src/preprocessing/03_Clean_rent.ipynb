{
 "cells": [
  {
   "cell_type": "code",
   "execution_count": 6,
   "metadata": {},
   "outputs": [
    {
     "name": "stdout",
     "output_type": "stream",
     "text": [
      "==== Save df rent: done ====\n"
     ]
    }
   ],
   "source": [
    "import pandas as pd\n",
    "import re\n",
    "def load_rent():\n",
    "    # load file\n",
    "    df = pd.read_csv('../../data/raw/transaction_rent.csv').drop_duplicates()\n",
    "    \n",
    "    # clean columns\n",
    "    df['postcode'] = df['postcode'].map(lambda x: re.sub('\\D+', '', x))\n",
    "    df['number_of_room'] = df['apartment_type'].map(lambda x: re.sub('h', '', x))\n",
    "    df = df.loc[df['number_of_room'].isin(['1', '2', '3+'])]\n",
    "    \n",
    "    # change dtype of rent columns\n",
    "    df[['nonsub_old', 'nonsub_new']] = df[['nonsub_old', 'nonsub_new']].apply(pd.to_numeric, errors='coerce')\n",
    "    \n",
    "    # drop unneeded columns:\n",
    "    df.drop(['apartment_type', 'ARA_rental'], axis=1, inplace=True)\n",
    "\n",
    "    df.to_csv('../../data/processed/transaction_rent.csv', index=False)\n",
    "    print('==== Save df rent: done ====')\n",
    "    \n",
    "    return df\n",
    "\n",
    "df = load_rent()"
   ]
  },
  {
   "cell_type": "code",
   "execution_count": null,
   "metadata": {},
   "outputs": [],
   "source": []
  },
  {
   "cell_type": "code",
   "execution_count": null,
   "metadata": {},
   "outputs": [],
   "source": []
  },
  {
   "cell_type": "code",
   "execution_count": null,
   "metadata": {},
   "outputs": [],
   "source": []
  }
 ],
 "metadata": {
  "kernelspec": {
   "display_name": "myenv",
   "language": "python",
   "name": "myenv"
  },
  "language_info": {
   "codemirror_mode": {
    "name": "ipython",
    "version": 3
   },
   "file_extension": ".py",
   "mimetype": "text/x-python",
   "name": "python",
   "nbconvert_exporter": "python",
   "pygments_lexer": "ipython3",
   "version": "3.8.5"
  }
 },
 "nbformat": 4,
 "nbformat_minor": 4
}
