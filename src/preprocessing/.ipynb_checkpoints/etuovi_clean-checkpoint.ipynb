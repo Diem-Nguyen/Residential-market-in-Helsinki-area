{
 "cells": [
  {
   "cell_type": "code",
   "execution_count": 190,
   "metadata": {},
   "outputs": [],
   "source": [
    "import json\n",
    "import numpy as np\n",
    "import pandas as pd\n",
    "#import geopandas as gpd\n",
    "import json\n",
    "import re\n",
    "import os\n",
    "import matplotlib \n",
    "from tqdm.notebook import tqdm\n",
    "from opencage.geocoder import OpenCageGeocode\n",
    "\n",
    "pd.set_option('display.max_columns', 150)\n",
    "\n",
    "\n",
    "df = pd.read_csv('../../data/raw/listing_price.csv')\n",
    "\n",
    "# remove col name from row values:\n",
    "for col in df.columns:\n",
    "    df[col] = df[col].str.replace(col,'')\n",
    "    \n",
    "# change name of the df\n",
    "cols = {\n",
    "    'Sijainti' : 'address',\n",
    "    'Tyyppi': 'type',\n",
    "    'Omistusmuoto': 'form_of_ownership',\n",
    "    'Huoneistoselitelmä':'rooms',\n",
    "    'Asuintilojen pinta-ala': 'living_area',\n",
    "    'Kerrokset':'floors',\n",
    "    'Rakennusvuosi':'construction_year',\n",
    "    'Velaton hinta': 'debt_free_price',\n",
    "    'Myyntihinta': 'selling_price',\n",
    "    'Velkaosuus': 'debt_ratio',\n",
    "    'Neliöhinta': 'price_m2',\n",
    "    'Yhtiövastike':'company_compensation',\n",
    "    'Vesimaksu': 'water_charge',\n",
    "    'Lisätiedot maksuista': 'additional_charge',\n",
    "    'Parveke': 'balcony',\n",
    "    'Hissi': 'elavator',\n",
    "    'Lämmitysjärjestelmä': 'heating_system',\n",
    "    'Taloyhtiöön kuuluu': 'building_facilities',\n",
    "    'Taloyhtiön autopaikat': 'parking_type',\n",
    "    'Energialuokka':'energy_class',\n",
    "    'Tontin omistus': 'land_ownership',\n",
    "    'Kokonaispinta-ala':'total_area',\n",
    "    'Vapautuminen':'released_year',\n",
    "    'Asuntoon kuuluu': 'apartment_includes',\n",
    "    'Tyydyttävä':'condition',\n",
    "    'Lämmitysjärjestelmän kuvaus':'heating_system_type',\n",
    "    'Rakennus- ja pintamateriaalit':'building_surface_materials',\n",
    "    'Keittiön kuvaus':'kitchen_description',\n",
    "    'Kylpyhuoneen kuvaus': 'bathroom_description',\n",
    "    'Olohuoneen kuvaus':'living_room_description',\n",
    "    'Kattotyyppi':'roof_type',\n",
    "    'Taloyhtiön nimi':'housing_company_name',\n",
    "    'Tehdyt remontit':'rennovations_made',\n",
    "    'Tulevat remontit': 'upcoming_renovations',\n",
    "    'Tontin koko':'building_ground',\n",
    "}\n",
    "\n",
    "df = df.rename(columns=cols)\n",
    "\n",
    "# extract municipality\n",
    "df['municipality'] = df['address'].map(lambda s: str(s).split()[0])\n",
    "\n",
    "# extract postcode\n",
    "df['postcode'] = df['address'].map(lambda s: re.findall('\\d{5}',str(s)) )\n",
    "df['postcode'] = df['postcode'].map(lambda x: x[0] if len(x)>0 else None)\n",
    "\n",
    "df['property_type'] = df.type.map(lambda s: str(s).split()[0])\n",
    "\n",
    "# filter form of ownership == Omistusasunto: owning         \n",
    "df = df[df.form_of_ownership=='Omistusasunto']\n",
    "\n",
    "# number of rooms\n",
    "rooms_type = {'3 huonetta': 3,\n",
    "              'Kaksio': 2,\n",
    "              '4 huonetta': 4,\n",
    "              'Yksiö': 1,\n",
    "              '5 huonetta': 5,\n",
    "              'Yli 5 huonetta':'5+',\n",
    "              'Ei tiedossa': None             \n",
    "}\n",
    "\n",
    "df['number_of_rooms'] = df['Huoneita'].replace(rooms_type)\n",
    "\n",
    "df['price'] = df['price'].map(lambda x: re.findall('\\d{4,}', x) ) \n",
    "df['price'] = df['price'].map(lambda x: x[0] if len(x) >0 else None)"
   ]
  },
  {
   "cell_type": "code",
   "execution_count": 193,
   "metadata": {},
   "outputs": [
    {
     "data": {
      "text/html": [
       "<div>\n",
       "<style scoped>\n",
       "    .dataframe tbody tr th:only-of-type {\n",
       "        vertical-align: middle;\n",
       "    }\n",
       "\n",
       "    .dataframe tbody tr th {\n",
       "        vertical-align: top;\n",
       "    }\n",
       "\n",
       "    .dataframe thead th {\n",
       "        text-align: right;\n",
       "    }\n",
       "</style>\n",
       "<table border=\"1\" class=\"dataframe\">\n",
       "  <thead>\n",
       "    <tr style=\"text-align: right;\">\n",
       "      <th></th>\n",
       "      <th>living_area</th>\n",
       "      <th>total_area</th>\n",
       "    </tr>\n",
       "  </thead>\n",
       "  <tbody>\n",
       "    <tr>\n",
       "      <th>0</th>\n",
       "      <td>49,5 m²</td>\n",
       "      <td>NaN</td>\n",
       "    </tr>\n",
       "    <tr>\n",
       "      <th>1</th>\n",
       "      <td>33 m²</td>\n",
       "      <td>33 m²</td>\n",
       "    </tr>\n",
       "    <tr>\n",
       "      <th>2</th>\n",
       "      <td>66 m²</td>\n",
       "      <td>66 m²</td>\n",
       "    </tr>\n",
       "    <tr>\n",
       "      <th>3</th>\n",
       "      <td>150 m²</td>\n",
       "      <td>325 m²</td>\n",
       "    </tr>\n",
       "    <tr>\n",
       "      <th>4</th>\n",
       "      <td>106 m²</td>\n",
       "      <td>115 m²</td>\n",
       "    </tr>\n",
       "    <tr>\n",
       "      <th>...</th>\n",
       "      <td>...</td>\n",
       "      <td>...</td>\n",
       "    </tr>\n",
       "    <tr>\n",
       "      <th>6235</th>\n",
       "      <td>78 m²</td>\n",
       "      <td>78 m²</td>\n",
       "    </tr>\n",
       "    <tr>\n",
       "      <th>6236</th>\n",
       "      <td>40 m²</td>\n",
       "      <td>NaN</td>\n",
       "    </tr>\n",
       "    <tr>\n",
       "      <th>6237</th>\n",
       "      <td>107 m²</td>\n",
       "      <td>107 m²</td>\n",
       "    </tr>\n",
       "    <tr>\n",
       "      <th>6238</th>\n",
       "      <td>80 m²</td>\n",
       "      <td>NaN</td>\n",
       "    </tr>\n",
       "    <tr>\n",
       "      <th>6239</th>\n",
       "      <td>94,5 m²</td>\n",
       "      <td>NaN</td>\n",
       "    </tr>\n",
       "  </tbody>\n",
       "</table>\n",
       "<p>5927 rows × 2 columns</p>\n",
       "</div>"
      ],
      "text/plain": [
       "     living_area total_area\n",
       "0        49,5 m²        NaN\n",
       "1          33 m²      33 m²\n",
       "2          66 m²      66 m²\n",
       "3         150 m²     325 m²\n",
       "4         106 m²     115 m²\n",
       "...          ...        ...\n",
       "6235       78 m²      78 m²\n",
       "6236       40 m²        NaN\n",
       "6237      107 m²     107 m²\n",
       "6238       80 m²        NaN\n",
       "6239     94,5 m²        NaN\n",
       "\n",
       "[5927 rows x 2 columns]"
      ]
     },
     "execution_count": 193,
     "metadata": {},
     "output_type": "execute_result"
    }
   ],
   "source": [
    "df.filter(like='area')"
   ]
  },
  {
   "cell_type": "code",
   "execution_count": 187,
   "metadata": {},
   "outputs": [
    {
     "data": {
      "text/plain": [
       "0       305450\n",
       "1       229000\n",
       "2       295500\n",
       "3       658000\n",
       "4       449000\n",
       "         ...  \n",
       "6235    337817\n",
       "6236    199500\n",
       "6237    260000\n",
       "6238    334900\n",
       "6239    469500\n",
       "Name: price, Length: 5927, dtype: object"
      ]
     },
     "execution_count": 187,
     "metadata": {},
     "output_type": "execute_result"
    }
   ],
   "source": []
  },
  {
   "cell_type": "code",
   "execution_count": null,
   "metadata": {},
   "outputs": [],
   "source": []
  },
  {
   "cell_type": "code",
   "execution_count": 155,
   "metadata": {},
   "outputs": [
    {
     "data": {
      "image/png": "[encoded data removed]",
      "text/plain": [
       "<Figure size 432x288 with 1 Axes>"
      ]
     },
     "metadata": {
      "needs_background": "light"
     },
     "output_type": "display_data"
    }
   ],
   "source": [
    "df['number_of_rooms'].value_counts().plot(kind='bar');"
   ]
  },
  {
   "cell_type": "code",
   "execution_count": null,
   "metadata": {},
   "outputs": [],
   "source": []
  },
  {
   "cell_type": "code",
   "execution_count": 74,
   "metadata": {},
   "outputs": [
    {
     "data": {
      "text/plain": [
       "['Helsinki fsdcfsdf', 'Helsinki fsdcfsdf', 'Helsinki']"
      ]
     },
     "execution_count": 74,
     "metadata": {},
     "output_type": "execute_result"
    }
   ],
   "source": [
    "a = 'Helsinki fsdcfsdf'\n",
    "[re.sub(f'{c}.*',f'{c}', a) for c in cities]\n"
   ]
  },
  {
   "cell_type": "code",
   "execution_count": null,
   "metadata": {},
   "outputs": [],
   "source": []
  }
 ],
 "metadata": {
  "kernelspec": {
   "display_name": "myenv",
   "language": "python",
   "name": "myenv"
  }
 },
 "nbformat": 4,
 "nbformat_minor": 4
}
